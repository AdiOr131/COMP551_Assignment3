{
 "cells": [
  {
   "cell_type": "code",
   "execution_count": 48,
   "metadata": {},
   "outputs": [],
   "source": [
    "import numpy as np\n",
    "from tqdm import tqdm\n",
    "import matplotlib.pyplot as plt\n",
    "\n",
    "import warnings\n",
    "warnings.filterwarnings('ignore')\n",
    "\n",
    "from typing import List\n"
   ]
  },
  {
   "cell_type": "code",
   "execution_count": 77,
   "metadata": {},
   "outputs": [
    {
     "name": "stdout",
     "output_type": "stream",
     "text": [
      "{-1: 0, 0: 1126, 1: 1010, 2: 1144, 3: 1196, 4: 957, 5: 1204, 6: 1090, 7: 1013, 8: 1162, 9: 0, 10: 1114, 11: 1241, 12: 1055, 13: 1151, 14: 1196, 15: 1088, 16: 1279, 17: 1294, 18: 1199, 19: 1186, 20: 1161, 21: 1082, 22: 1225, 23: 1164, 24: 1118, 25: 0, 26: 0, 27: 0, 28: 0, 29: 0, 30: 0}\n",
      "X_train numpy shape: (27455, 784)\n",
      "X_test numpy shape: (7172, 784)\n",
      "y_train numpy shape: (27455,)\n",
      "y_test numpy shape: (7172,)\n",
      "X_train tensor shape: torch.Size([27455, 28, 28, 1])\n",
      "X_test tensor shape: torch.Size([7172, 28, 28, 1])\n",
      "y_train tensor shape: torch.Size([27455])\n",
      "y_test tensor shape: torch.Size([7172])\n"
     ]
    }
   ],
   "source": [
    "import pandas as pd\n",
    "import torch\n",
    "\n",
    "df_train = pd.read_csv('./sign_mnist_train.csv')\n",
    "df_test = pd.read_csv(\"./sign_mnist_test.csv\")\n",
    "\n",
    "X_train, y_train = df_train.iloc[:,1:].values/255.0, df_train.iloc[:,0].values #normalizing takes place here\n",
    "X_test, y_test = df_test.iloc[:,1:].values/255.0, df_test.iloc[:,0].values\n",
    "\n",
    "value_counts = {value: np.count_nonzero(y_train == value) for value in range(-1, 31)}\n",
    "\n",
    "print(value_counts)\n",
    "\n",
    "from sklearn.preprocessing import LabelBinarizer\n",
    "lb = LabelBinarizer() #One hot encoding of the labels\n",
    "# y_train = lb.fit_transform(y_train)\n",
    "# y_test = lb.fit_transform(y_test)\n",
    "\n",
    "print(\"X_train numpy shape: \"+ str(X_train.shape))\n",
    "print(\"X_test numpy shape: \" +str(X_test.shape))\n",
    "print(\"y_train numpy shape: \" +str(y_train.shape))\n",
    "print(\"y_test numpy shape: \" + str(y_test.shape))\n",
    "\n",
    "\n",
    "X_train_tensor, y_train_tensor = torch.tensor(X_train).reshape(-1, 28, 28, 1), torch.tensor(y_train) #Reshaped to 2D images for the CNN\n",
    "X_test_tensor, y_test_tensor = torch.tensor(X_test).reshape(-1,28,28,1), torch.tensor(y_test)\n",
    "\n",
    "print(\"X_train tensor shape: \"+ str(X_train_tensor.shape))\n",
    "print(\"X_test tensor shape: \" +str(X_test_tensor.shape))\n",
    "print(\"y_train tensor shape: \" +str(y_train_tensor.shape))\n",
    "print(\"y_test tensor shape: \" + str(y_test_tensor.shape))\n"
   ]
  },
  {
   "cell_type": "code",
   "execution_count": 82,
   "metadata": {},
   "outputs": [],
   "source": [
    "class NeuralNetLayer:\n",
    "    def __init__(self):\n",
    "        self.gradient = None\n",
    "        self.parameters = None\n",
    "        \n",
    "    def forward(self, x):\n",
    "        raise NotImplementedError\n",
    "\n",
    "    def backward(self, gradient):\n",
    "        raise NotImplementedError\n",
    "    \n",
    "\n",
    "class LinearLayer(NeuralNetLayer):\n",
    "    def __init__(self, input_size, output_size):\n",
    "        super().__init__()\n",
    "        self.ni = input_size\n",
    "        self.no = output_size\n",
    "        self.w = np.random.randn(output_size, input_size)\n",
    "        self.b = np.random.randn(output_size)\n",
    "        self.cur_input = None\n",
    "        self.parameters = [self.w, self.b]\n",
    "\n",
    "    def forward(self, x):\n",
    "        self.cur_input = x\n",
    "        return (self.w[None, :, :] @ x[:, :, None]).squeeze() + self.b\n",
    "\n",
    "    def backward(self, gradient):\n",
    "        assert self.cur_input is not None, \"Must call forward before backward\"\n",
    "        #dw = gradient.dot(self.cur_input)\n",
    "        dw = gradient[:, :, None] @ self.cur_input[:, None, :]\n",
    "        db = gradient\n",
    "        self.gradient = [dw, db]\n",
    "        return gradient.dot(self.w)\n",
    "    \n",
    "\n",
    "class ReLULayer(NeuralNetLayer):\n",
    "    def __init__(self):\n",
    "        super().__init__()\n",
    "        \n",
    "    def forward(self, x):\n",
    "        self.gradient = np.where(x > 0, 1.0, 0.0)\n",
    "        return np.maximum(0, x)\n",
    "\n",
    "    def backward(self, gradient):\n",
    "        assert self.gradient is not None, \"Must call forward before backward\"\n",
    "        return gradient * self.gradient\n",
    "    \n",
    "\n",
    "# class SoftmaxOutputLayer(NeuralNetLayer):\n",
    "#     def __init__(self):\n",
    "#         super().__init__()\n",
    "#         self.cur_probs = None\n",
    "\n",
    "#     def forward(self, x):\n",
    "#         exps = np.exp(x)\n",
    "#         probs = exps / np.sum(exps, axis=-1)[:, None]\n",
    "#         self.cur_probs = probs\n",
    "#         return probs\n",
    "\n",
    "#     def backward(self, target):\n",
    "#         assert self.cur_probs is not None, \"Must call forward before backward\"\n",
    "#         return self.cur_probs - target\n",
    "    \n",
    "class SoftmaxOutputLayer(NeuralNetLayer):\n",
    "    def __init__(self):\n",
    "        super().__init__()\n",
    "        self.cur_probs = None\n",
    "\n",
    "    def forward(self, x):\n",
    "        # Shift x by subtracting its max value from each vector in the batch\n",
    "        shift_x = x - np.max(x, axis=-1, keepdims=True)\n",
    "        exps = np.exp(shift_x)\n",
    "        probs = exps / np.sum(exps, axis=-1, keepdims=True)\n",
    "        self.cur_probs = probs\n",
    "        return probs\n",
    "\n",
    "    def backward(self, target):\n",
    "        assert self.cur_probs is not None, \"Must call forward before backward\"\n",
    "        return self.cur_probs - target"
   ]
  },
  {
   "cell_type": "code",
   "execution_count": 83,
   "metadata": {},
   "outputs": [],
   "source": [
    "class MLP:\n",
    "    def __init__(self, *args: List[NeuralNetLayer]):\n",
    "        self.layers = args\n",
    "\n",
    "    def forward(self, x):\n",
    "        for layer in self.layers:\n",
    "            x = layer.forward(x)\n",
    "        return x\n",
    "\n",
    "    def backward(self, target):\n",
    "        for layer in self.layers[::-1]:\n",
    "            target = layer.backward(target)"
   ]
  },
  {
   "cell_type": "code",
   "execution_count": 84,
   "metadata": {},
   "outputs": [],
   "source": [
    "class Optimizer:\n",
    "    def __init__(self, net: MLP):\n",
    "        self.net = net\n",
    "\n",
    "    def step(self):\n",
    "        for layer in self.net.layers[::-1]:\n",
    "            if layer.parameters is not None:\n",
    "                self.update(layer.parameters, layer.gradient)\n",
    "\n",
    "    def update(self, params, gradient):\n",
    "        raise NotImplementedError\n",
    "\n",
    "class GradientDescentOptimizer(Optimizer):\n",
    "    def __init__(self, net: MLP, lr: float):\n",
    "        super().__init__(net)\n",
    "        self.lr = lr\n",
    "\n",
    "    def update(self, params, gradient):\n",
    "        for (p, g) in zip(params, gradient):\n",
    "            g_avg = g.mean(axis=0)\n",
    "            p -= self.lr * g_avg"
   ]
  },
  {
   "cell_type": "code",
   "execution_count": 93,
   "metadata": {},
   "outputs": [
    {
     "name": "stderr",
     "output_type": "stream",
     "text": [
      "  0%|          | 0/10000 [00:00<?, ?it/s]"
     ]
    },
    {
     "name": "stderr",
     "output_type": "stream",
     "text": [
      "100%|██████████| 10000/10000 [04:16<00:00, 39.04it/s]\n"
     ]
    },
    {
     "data": {
      "image/png": "[encoded data removed]",
      "text/plain": [
       "<Figure size 640x480 with 1 Axes>"
      ]
     },
     "metadata": {},
     "output_type": "display_data"
    }
   ],
   "source": [
    "def train(mlp: MLP, optimizer: Optimizer, data_x, data_y, steps, batch_size=64):\n",
    "    losses = []\n",
    "    accuracies = []\n",
    "    n_samples = data_x.shape[0]\n",
    "    labels_full = np.eye(25)[np.array(data_y)]  # One-hot encode labels\n",
    "    for _ in tqdm(range(steps)):\n",
    "        # Randomly select batch indices for each step\n",
    "        batch_indices = np.random.choice(n_samples, batch_size, replace=False)\n",
    "        batch_x = data_x[batch_indices]\n",
    "        batch_y = data_y[batch_indices]\n",
    "        labels = labels_full[batch_indices]\n",
    "\n",
    "        predictions = mlp.forward(batch_x)\n",
    "        predicted_classes = np.argmax(predictions, axis=1)\n",
    "        correct_predictions = predicted_classes == batch_y\n",
    "        accuracy = np.mean(correct_predictions)\n",
    "        accuracies.append(accuracy)\n",
    "        \n",
    "        loss = -(labels * np.log(predictions+1e-9)).sum(axis=-1).mean()\n",
    "        losses.append(loss)\n",
    "        \n",
    "        mlp.backward(labels)\n",
    "        optimizer.step()\n",
    "\n",
    "    plt.plot(losses)\n",
    "    plt.xlabel(\"Epoch\")\n",
    "    plt.ylabel(\"Cross entropy loss\")\n",
    "    plt.show()\n",
    "\n",
    "HIDDEN_SIZE = 150\n",
    "GRADIENT_STEPS = 10000\n",
    "\n",
    "mlp1 = MLP(\n",
    "    LinearLayer(784, HIDDEN_SIZE),\n",
    "    ReLULayer(),\n",
    "    LinearLayer(HIDDEN_SIZE, 25),\n",
    "    SoftmaxOutputLayer()\n",
    ")\n",
    "opt1 = GradientDescentOptimizer(mlp1, 1e-2)\n",
    "\n",
    "train(mlp1, opt1, X_train, y_train, GRADIENT_STEPS)"
   ]
  },
  {
   "cell_type": "code",
   "execution_count": 95,
   "metadata": {},
   "outputs": [
    {
     "name": "stdout",
     "output_type": "stream",
     "text": [
      "Training accuracy: 92.9484611181934%\n",
      "Testing accuracy: 56.10708310094813%\n"
     ]
    }
   ],
   "source": [
    "predictions = mlp1.forward(X_train)\n",
    "predicted_classes = np.argmax(predictions, axis=1)\n",
    "correct_predictions = predicted_classes == y_train\n",
    "accuracy = np.mean(correct_predictions)\n",
    "print(f\"Training accuracy: {accuracy*100}%\")\n",
    "\n",
    "predictions_test = mlp1.forward(X_test)\n",
    "predicted_classes_test = np.argmax(predictions_test, axis=1)\n",
    "correct_predictions_test = predicted_classes_test == y_test\n",
    "accuracy_test = np.mean(correct_predictions_test)\n",
    "print(f\"Testing accuracy: {accuracy_test*100}%\")"
   ]
  }
 ],
 "metadata": {
  "kernelspec": {
   "display_name": "GrITPythonEnv",
   "language": "python",
   "name": "python3"
  },
  "language_info": {
   "codemirror_mode": {
    "name": "ipython",
    "version": 3
   },
   "file_extension": ".py",
   "mimetype": "text/x-python",
   "name": "python",
   "nbconvert_exporter": "python",
   "pygments_lexer": "ipython3",
   "version": "3.9.16"
  }
 },
 "nbformat": 4,
 "nbformat_minor": 2
}
