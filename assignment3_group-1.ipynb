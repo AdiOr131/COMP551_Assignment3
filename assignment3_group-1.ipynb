{
 "cells": [
  {
   "cell_type": "code",
   "execution_count": 3,
   "metadata": {},
   "outputs": [],
   "source": [
    "import numpy as np\n",
    "from tqdm import tqdm\n",
    "import matplotlib.pyplot as plt\n",
    "\n",
    "import warnings\n",
    "warnings.filterwarnings('ignore')\n",
    "\n",
    "from typing import List\n"
   ]
  },
  {
   "cell_type": "markdown",
   "metadata": {},
   "source": [
    "<h1> Task 1 </h1>"
   ]
  },
  {
   "cell_type": "code",
   "execution_count": 4,
   "metadata": {},
   "outputs": [
    {
     "name": "stdout",
     "output_type": "stream",
     "text": [
      "{-1: 0, 0: 1126, 1: 1010, 2: 1144, 3: 1196, 4: 957, 5: 1204, 6: 1090, 7: 1013, 8: 1162, 9: 0, 10: 1114, 11: 1241, 12: 1055, 13: 1151, 14: 1196, 15: 1088, 16: 1279, 17: 1294, 18: 1199, 19: 1186, 20: 1161, 21: 1082, 22: 1225, 23: 1164, 24: 1118, 25: 0, 26: 0, 27: 0, 28: 0, 29: 0, 30: 0}\n",
      "X_train numpy shape: (27455, 784)\n",
      "X_test numpy shape: (7172, 784)\n",
      "y_train numpy shape: (27455,)\n",
      "y_test numpy shape: (7172,)\n",
      "X_train tensor shape: torch.Size([27455, 1, 28, 28])\n",
      "X_test tensor shape: torch.Size([7172, 1, 28, 28])\n",
      "y_train tensor shape: torch.Size([27455])\n",
      "y_test tensor shape: torch.Size([7172])\n"
     ]
    }
   ],
   "source": [
    "import pandas as pd\n",
    "import torch\n",
    "\n",
    "df_train = pd.read_csv('./sign_mnist_train.csv')\n",
    "df_test = pd.read_csv(\"./sign_mnist_test.csv\")\n",
    "\n",
    "X_train, y_train = df_train.iloc[:,1:].values/255.0, df_train.iloc[:,0].values #normalizing takes place here\n",
    "X_test, y_test = df_test.iloc[:,1:].values/255.0, df_test.iloc[:,0].values\n",
    "\n",
    "value_counts = {value: np.count_nonzero(y_train == value) for value in range(-1, 31)}\n",
    "\n",
    "print(value_counts)\n",
    "\n",
    "from sklearn.preprocessing import LabelBinarizer\n",
    "lb = LabelBinarizer() #One hot encoding of the labels\n",
    "# y_train = lb.fit_transform(y_train)\n",
    "# y_test = lb.fit_transform(y_test)\n",
    "\n",
    "print(\"X_train numpy shape: \"+ str(X_train.shape))\n",
    "print(\"X_test numpy shape: \" +str(X_test.shape))\n",
    "print(\"y_train numpy shape: \" +str(y_train.shape))\n",
    "print(\"y_test numpy shape: \" + str(y_test.shape))\n",
    "\n",
    "\n",
    "X_train_tensor, y_train_tensor = torch.tensor(X_train, dtype=torch.float).reshape(-1, 1, 28, 28), torch.tensor(y_train, dtype=torch.long) #Reshaped to 2D images for the CNN\n",
    "X_test_tensor, y_test_tensor = torch.tensor(X_test, dtype=torch.float).reshape(-1,1,28,28), torch.tensor(y_test, dtype=torch.long)\n",
    "\n",
    "print(\"X_train tensor shape: \"+ str(X_train_tensor.shape))\n",
    "print(\"X_test tensor shape: \" +str(X_test_tensor.shape))\n",
    "print(\"y_train tensor shape: \" +str(y_train_tensor.shape))\n",
    "print(\"y_test tensor shape: \" + str(y_test_tensor.shape))\n"
   ]
  },
  {
   "cell_type": "markdown",
   "metadata": {},
   "source": [
    "<h1> Task 2</h1>"
   ]
  },
  {
   "cell_type": "code",
   "execution_count": 5,
   "metadata": {},
   "outputs": [],
   "source": [
    "def evaluate_accuracy(y_true, predicted_probabilities):\n",
    "    predicted_classes = np.argmax(predicted_probabilities, axis=1)\n",
    "    correct_predictions = predicted_classes == y_true\n",
    "    accuracy = np.mean(correct_predictions) \n",
    "    return accuracy"
   ]
  },
  {
   "cell_type": "code",
   "execution_count": 6,
   "metadata": {},
   "outputs": [],
   "source": [
    "class NeuralNetLayer:\n",
    "    def __init__(self):\n",
    "        self.gradient = None\n",
    "        self.parameters = None\n",
    "        \n",
    "    def forward(self, x):\n",
    "        raise NotImplementedError\n",
    "\n",
    "    def backward(self, gradient):\n",
    "        raise NotImplementedError\n",
    "    \n",
    "\n",
    "class LinearLayer(NeuralNetLayer):\n",
    "    def __init__(self, input_size, output_size):\n",
    "        super().__init__()\n",
    "        self.ni = input_size\n",
    "        self.no = output_size\n",
    "        self.w = np.random.randn(output_size, input_size)\n",
    "        self.b = np.random.randn(output_size)\n",
    "        self.cur_input = None\n",
    "        self.parameters = [self.w, self.b]\n",
    "\n",
    "    def forward(self, x):\n",
    "        self.cur_input = x\n",
    "        return (self.w[None, :, :] @ x[:, :, None]).squeeze() + self.b\n",
    "\n",
    "    def backward(self, gradient):\n",
    "        assert self.cur_input is not None, \"Must call forward before backward\"\n",
    "        #dw = gradient.dot(self.cur_input)\n",
    "        dw = gradient[:, :, None] @ self.cur_input[:, None, :]\n",
    "        db = gradient\n",
    "        self.gradient = [dw, db]\n",
    "        return gradient.dot(self.w)\n",
    "    \n",
    "    def get_params(self):\n",
    "        return self.w.copy(), self.b.copy()\n",
    "    \n",
    "    def set_params(self, w :np.ndarray, b:np.ndarray):\n",
    "        self.w = w.copy()\n",
    "        self.b = b.copy()\n",
    "    \n",
    "\n",
    "class ReLULayer(NeuralNetLayer):\n",
    "    def __init__(self):\n",
    "        super().__init__()\n",
    "        \n",
    "    def forward(self, x):\n",
    "        self.gradient = np.where(x > 0, 1.0, 0.0)\n",
    "        return np.maximum(0, x)\n",
    "\n",
    "    def backward(self, gradient):\n",
    "        assert self.gradient is not None, \"Must call forward before backward\"\n",
    "        return gradient * self.gradient\n",
    "    \n",
    "class SoftmaxOutputLayer(NeuralNetLayer):\n",
    "    def __init__(self):\n",
    "        super().__init__()\n",
    "        self.cur_probs = None\n",
    "\n",
    "    def forward(self, x):\n",
    "        # Shift x by subtracting its max value from each vector in the batch\n",
    "        shift_x = x - np.max(x, axis=-1, keepdims=True)\n",
    "        exps = np.exp(shift_x)\n",
    "        probs = exps / np.sum(exps, axis=-1, keepdims=True)\n",
    "        self.cur_probs = probs\n",
    "        return probs\n",
    "\n",
    "    def backward(self, target):\n",
    "        assert self.cur_probs is not None, \"Must call forward before backward\"\n",
    "        return self.cur_probs - target"
   ]
  },
  {
   "cell_type": "code",
   "execution_count": 7,
   "metadata": {},
   "outputs": [],
   "source": [
    "class MLP:\n",
    "    def __init__(self, *args: List[NeuralNetLayer]):\n",
    "        self.layers = args\n",
    "\n",
    "    def forward(self, x):\n",
    "        for layer in self.layers:\n",
    "            x = layer.forward(x)\n",
    "        return x\n",
    "\n",
    "    def backward(self, target):\n",
    "        for layer in self.layers[::-1]:\n",
    "            target = layer.backward(target)\n",
    "\n",
    "    def get_params(self):\n",
    "        # Collect parameters from all layers that have them\n",
    "        params = []\n",
    "        for layer in self.layers:\n",
    "            if hasattr(layer, 'get_params'):\n",
    "                params.extend(layer.get_params())\n",
    "        return params\n",
    "\n",
    "    def apply_params(self, parameters):\n",
    "        # Apply parameters to all layers that have them\n",
    "        param_iter = iter(parameters)\n",
    "        for layer in self.layers:\n",
    "            if hasattr(layer, 'set_params'):\n",
    "                layer.set_params(next(param_iter), next(param_iter))\n",
    "\n",
    "    \n",
    "            "
   ]
  },
  {
   "cell_type": "code",
   "execution_count": 12,
   "metadata": {},
   "outputs": [],
   "source": [
    "class Optimizer:\n",
    "    def __init__(self, net: MLP):\n",
    "        self.net = net\n",
    "\n",
    "    def step(self):\n",
    "        for layer in self.net.layers[::-1]:\n",
    "            if layer.parameters is not None:\n",
    "                self.update(layer.parameters, layer.gradient)\n",
    "\n",
    "    def update(self, params, gradient):\n",
    "        raise NotImplementedError\n",
    "\n",
    "class GradientDescentOptimizer(Optimizer):\n",
    "    def __init__(self, net: MLP, lr: float):\n",
    "        super().__init__(net)\n",
    "        self.lr = lr\n",
    "\n",
    "    def update(self, params, gradient):\n",
    "        for (p, g) in zip(params, gradient):\n",
    "            g_avg = g.mean(axis=0)\n",
    "            p -= self.lr * g_avg\n",
    "\n",
    "\n",
    "class GradientDescentOptimizerWithSchedule(GradientDescentOptimizer):\n",
    "    def __init__(self, net: MLP, lr: float, schedule_step: int, decay_factor: float):\n",
    "        super().__init__(net, lr)\n",
    "        self.schedule_step = schedule_step\n",
    "        self.decay_factor = decay_factor\n",
    "        self.current_step = 0\n",
    "\n",
    "    def step(self):\n",
    "        super().step()\n",
    "        self.current_step += 1\n",
    "        if self.current_step % self.schedule_step == 0:\n",
    "            self.update_lr()\n",
    "\n",
    "    def update_lr(self):\n",
    "        self.lr *= self.decay_factor\n",
    "        print(f\"Updated learning rate to {self.lr}\")\n",
    "\n",
    "\n",
    "\n"
   ]
  },
  {
   "cell_type": "code",
   "execution_count": 9,
   "metadata": {},
   "outputs": [],
   "source": [
    "from scipy.interpolate import interp1d\n",
    "\n",
    "\n",
    "###New training algorithm\n",
    "def train(mlp :MLP, optimizer, data_x, data_y, num_epochs, batch_size=128, patience=5):\n",
    "    \n",
    "    #First split into train/validation split\n",
    "    np.random.seed(13) #So that its deterministic\n",
    "    val_size = int(len(data_x) * 0.2)  # For an 80/20 split\n",
    "    indices = np.arange(len(data_x))\n",
    "    np.random.shuffle(indices)\n",
    "    val_indices = indices[:val_size]\n",
    "    train_indices = indices[val_size:]\n",
    "    # Use the indices to create training and validation sets\n",
    "    x_train, y_train = data_x[train_indices], data_y[train_indices]\n",
    "    x_val, y_val = data_x[val_indices], data_y[val_indices]\n",
    "\n",
    "    losses = []\n",
    "\n",
    "    val_every_ith_epoch = 10\n",
    "    val_losses = [float('inf')]\n",
    "    labels_train = np.eye(25)[y_train] #one hot encoding\n",
    "    labels_val = np.eye(25)[y_val]\n",
    "\n",
    "    best_loss = float('inf')\n",
    "    no_improvement_count = 0\n",
    "    best_params = None\n",
    "\n",
    "    for epoch in tqdm(range(num_epochs)):\n",
    "        #Shuffle training every epoch so we visit in different order\n",
    "        permutation = np.random.permutation(len(x_train))\n",
    "        x_train_shuffled = x_train[permutation]\n",
    "        y_train_shuffled = labels_train[permutation]\n",
    "\n",
    "        #Now we go through every mini batch\n",
    "        batch_loss = []\n",
    "        for i in range(0, len(x_train), batch_size):\n",
    "            batch_x = x_train_shuffled[i:i+batch_size]\n",
    "            batch_y = y_train_shuffled[i:i+batch_size]\n",
    "\n",
    "            predictions = mlp.forward(batch_x)\n",
    "            loss = -(batch_y*np.log(predictions+1e-9)).sum(axis=-1).mean() #we take mean so loss is independent of batch size?\n",
    "            batch_loss.append(loss)\n",
    "\n",
    "            mlp.backward(batch_y)\n",
    "            optimizer.step()\n",
    "        losses.append(np.mean(batch_loss))\n",
    "\n",
    "        #Validation check\n",
    "        if epoch % val_every_ith_epoch == 0:\n",
    "            predictions_val = mlp.forward(x_val)\n",
    "            loss_val = -(labels_val * np.log(predictions_val + 1e-9)).sum(axis=-1).mean()\n",
    "            if loss_val< np.min(val_losses):\n",
    "                best_params = mlp.get_params()\n",
    "            val_losses.append(loss_val)\n",
    "\n",
    "        #Early stopping check\n",
    "        if len(losses) > 2*patience:\n",
    "            if not check_improvement(losses, patience, best_loss):\n",
    "                no_improvement_count+=1\n",
    "                if no_improvement_count>2:\n",
    "                    print(f\"Early stopping at epoch {epoch}: no improvement in the last {patience} checks.\")\n",
    "                    break\n",
    "            else:\n",
    "                no_improvement_count = 0\n",
    "    \n",
    "    return best_params, losses, val_losses\n",
    "    \n",
    "    \n",
    "def check_improvement(losses, patience, best_loss):\n",
    "    recent_avg_loss = np.mean(losses[-patience:])\n",
    "    prev_avg_loss = np.mean(losses[-2*patience:-patience])\n",
    "    if recent_avg_loss<best_loss:\n",
    "        best_loss = recent_avg_loss\n",
    "        return True\n",
    "    return recent_avg_loss < prev_avg_loss\n",
    "\n",
    "\n",
    "def plot_losses(losses, val_losses):\n",
    "    if len(val_losses) > 0 and (np.isinf(val_losses[0]) or np.isnan(val_losses[0])):\n",
    "        val_losses = val_losses[1:]  # We eliminate the first value since it's infinite or NaN\n",
    "    \n",
    "    total_epochs = len(losses)\n",
    "    \n",
    "    # Original epochs for validation losses\n",
    "    original_val_epochs = np.linspace(1, total_epochs, len(val_losses), endpoint=True)\n",
    "    \n",
    "    # Interpolation for validation losses to match the total_epochs\n",
    "    interp = interp1d(original_val_epochs, val_losses, kind='linear')\n",
    "    interpolated_val_epochs = np.linspace(1, total_epochs, total_epochs, endpoint=True)\n",
    "    interpolated_val_losses = interp(interpolated_val_epochs)\n",
    "    \n",
    "    plt.plot(range(1, total_epochs + 1), losses, label='Training Loss', linestyle='-', color='blue')\n",
    "    plt.plot(interpolated_val_epochs, interpolated_val_losses, label='Validation Loss', linestyle='--', color='orange')\n",
    "    \n",
    "    plt.xlabel(\"Epoch\")\n",
    "    plt.ylabel(\"Loss\")\n",
    "    plt.yscale(\"log\")  # Using logarithmic scale for better visibility if losses vary widely\n",
    "    plt.legend()\n",
    "    plt.title(\"Training vs Validation Loss\")\n",
    "    plt.show()\n",
    "    "
   ]
  },
  {
   "cell_type": "code",
   "execution_count": 10,
   "metadata": {},
   "outputs": [],
   "source": [
    "def get_accuracy_stats(mlp :MLP, best_params_no_val, best_params_val, X_test, y_test, X_train, y_train):\n",
    "    mlp.apply_params(best_params_no_val)\n",
    "    accuracy_no_val_train = evaluate_accuracy(y_train, mlp.forward(X_train))*100\n",
    "    accuracy_no_val_test = evaluate_accuracy(y_test, mlp.forward(X_test))*100\n",
    "\n",
    "    mlp.apply_params(best_params_val)\n",
    "    accuracy_val_train = evaluate_accuracy(y_train, mlp.forward(X_train))*100\n",
    "    accuracy_val_test = evaluate_accuracy(y_test, mlp.forward(X_test))*100\n",
    "\n",
    "    print(f\"Train accuracy no validation = {accuracy_no_val_train:.2f}%\")\n",
    "    print(f\"Test accuracy no validation = {accuracy_no_val_test:.2f}%\")\n",
    "    print(f\"Train accuracy with validation = {accuracy_val_train:.2f}%\")\n",
    "    print(f\"Test accuracy with validation = {accuracy_val_test:.2f}%\")\n",
    "    return accuracy_no_val_train,accuracy_no_val_test,accuracy_val_train, accuracy_val_test\n"
   ]
  },
  {
   "cell_type": "markdown",
   "metadata": {},
   "source": [
    "<h1>TODO: Write method that checks validity of MLP model gradient (bottom of task 2)</h1>"
   ]
  },
  {
   "cell_type": "markdown",
   "metadata": {},
   "source": [
    "<h1>Task 3.1</h1>"
   ]
  },
  {
   "cell_type": "markdown",
   "metadata": {},
   "source": [
    "<h3> No hidden layer </h3>"
   ]
  },
  {
   "cell_type": "code",
   "execution_count": 30,
   "metadata": {},
   "outputs": [
    {
     "name": "stderr",
     "output_type": "stream",
     "text": [
      "100%|██████████| 200/200 [05:30<00:00,  1.65s/it]\n"
     ]
    }
   ],
   "source": [
    "mlp_no_hidden_layer = MLP(\n",
    "    LinearLayer(784, 25),\n",
    "    SoftmaxOutputLayer()\n",
    ")\n",
    "optimizer = GradientDescentOptimizer(mlp_no_hidden_layer, 1e-1)\n",
    "gradient_steps = 200\n",
    "best_val_params, train_losses, val_losses = train(mlp_no_hidden_layer, optimizer, X_train, y_train, gradient_steps)\n",
    "best_no_val_params = mlp_no_hidden_layer.get_params()"
   ]
  },
  {
   "cell_type": "code",
   "execution_count": 31,
   "metadata": {},
   "outputs": [
    {
     "name": "stdout",
     "output_type": "stream",
     "text": [
      "NO HIDDEN LAYER\n"
     ]
    },
    {
     "data": {
      "image/png": "[encoded data removed]",
      "text/plain": [
       "<Figure size 640x480 with 1 Axes>"
      ]
     },
     "metadata": {},
     "output_type": "display_data"
    },
    {
     "name": "stdout",
     "output_type": "stream",
     "text": [
      "Train accuracy no validation = 99.51%\n",
      "Test accuracy no validation = 63.68%\n",
      "Train accuracy with validation = 99.42%\n",
      "Test accuracy with validation = 64.40%\n",
      "\n",
      "\n",
      "\n",
      "\n",
      "\n"
     ]
    }
   ],
   "source": [
    "print(\"NO HIDDEN LAYER\")\n",
    "plot_losses(train_losses, val_losses)\n",
    "no_hidden_layer_stats = get_accuracy_stats(mlp_no_hidden_layer, best_no_val_params, best_val_params, X_test, y_test, X_train, y_train)\n",
    "print(\"\\n\\n\\n\\n\")"
   ]
  },
  {
   "cell_type": "markdown",
   "metadata": {},
   "source": [
    "<h3> One Hidden Layer </h3>"
   ]
  },
  {
   "cell_type": "code",
   "execution_count": 1,
   "metadata": {},
   "outputs": [
    {
     "ename": "NameError",
     "evalue": "name 'X_train' is not defined",
     "output_type": "error",
     "traceback": [
      "\u001b[1;31m---------------------------------------------------------------------------\u001b[0m",
      "\u001b[1;31mNameError\u001b[0m                                 Traceback (most recent call last)",
      "\u001b[1;32mc:\\Users\\zachg\\Downloads\\COMP551_Assignment3\\assignment3_group-1.ipynb Cell 17\u001b[0m line \u001b[0;36m2\n\u001b[0;32m     <a href='vscode-notebook-cell:/c%3A/Users/zachg/Downloads/COMP551_Assignment3/assignment3_group-1.ipynb#X22sZmlsZQ%3D%3D?line=20'>21</a>\u001b[0m scimlp \u001b[39m=\u001b[39m MLPClassifier(activation\u001b[39m=\u001b[39m\u001b[39m'\u001b[39m\u001b[39mrelu\u001b[39m\u001b[39m'\u001b[39m, solver\u001b[39m=\u001b[39m\u001b[39m'\u001b[39m\u001b[39msgd\u001b[39m\u001b[39m'\u001b[39m, alpha\u001b[39m=\u001b[39m\u001b[39m0.0\u001b[39m, batch_size\u001b[39m=\u001b[39m\u001b[39m128\u001b[39m, max_iter\u001b[39m=\u001b[39m\u001b[39m200\u001b[39m)\n\u001b[0;32m     <a href='vscode-notebook-cell:/c%3A/Users/zachg/Downloads/COMP551_Assignment3/assignment3_group-1.ipynb#X22sZmlsZQ%3D%3D?line=21'>22</a>\u001b[0m grid_search \u001b[39m=\u001b[39m GridSearchCV(scimlp, param_grid, cv\u001b[39m=\u001b[39m\u001b[39m5\u001b[39m, verbose\u001b[39m=\u001b[39m\u001b[39m2\u001b[39m)  \u001b[39m#cv is K-fold cross validation, verbose is amount of detail printed to console\u001b[39;00m\n\u001b[1;32m---> <a href='vscode-notebook-cell:/c%3A/Users/zachg/Downloads/COMP551_Assignment3/assignment3_group-1.ipynb#X22sZmlsZQ%3D%3D?line=22'>23</a>\u001b[0m grid_search\u001b[39m.\u001b[39mfit(X_train, y_train)\n",
      "\u001b[1;31mNameError\u001b[0m: name 'X_train' is not defined"
     ]
    }
   ],
   "source": [
    "#Hyperparameter optimization\n",
    "\n",
    "\"\"\"We might be able to use the scikit-learn MLP implementation to find out which model parameters are ideal.\n",
    "In this way, we perform a grid search of all possible combinations, and then we basically report the one that's the best. Then, using the best\n",
    "model structure from the scikit-learn MLP implementation, we can train our MLP implementation and see if the accuracy is similar.\n",
    "\n",
    "We can also try and have our MLP implementation implement all the method required when passed to GridSearchCV so that GridSearchCV can be used\n",
    "directly with out MLP implementation.\n",
    "\"\"\"\n",
    "\n",
    "\n",
    "from sklearn.neural_network import MLPClassifier\n",
    "from sklearn.model_selection import GridSearchCV\n",
    "\n",
    "param_grid = {\n",
    "    'hidden_layer_sizes': [(32,), (64,), (128,), (256,)],  # Single layer with varying sizes\n",
    "    'learning_rate_init': [0.001, 0.01, 0.1, 1]\n",
    "}\n",
    "\n",
    "#No regularization alpha = 0.0\n",
    "scimlp = MLPClassifier(activation='relu', solver='sgd', alpha=0.0, batch_size=128, max_iter=200)\n",
    "grid_search = GridSearchCV(scimlp, param_grid, cv=5, verbose=2)  #cv is K-fold cross validation, verbose is amount of detail printed to console\n",
    "grid_search.fit(X_train, y_train)\n",
    "\n",
    "\n"
   ]
  },
  {
   "cell_type": "code",
   "execution_count": null,
   "metadata": {},
   "outputs": [],
   "source": [
    "HIDDEN_UNITS = 32\n",
    "mlp_one_hidden_layer_32 = MLP(\n",
    "    LinearLayer(784, HIDDEN_UNITS),\n",
    "    ReLULayer(),\n",
    "    LinearLayer(HIDDEN_UNITS, 25),\n",
    "    SoftmaxOutputLayer()\n",
    ")\n",
    "optimizer = GradientDescentOptimizer(mlp_one_hidden_layer_32, 1e-1)\n",
    "gradient_steps = 200\n",
    "best_val_params_32, training_losses_32, validation_losses_32 = train(mlp_one_hidden_layer_32, optimizer, X_train, y_train, gradient_steps)\n",
    "best_no_val_params_32 = mlp_one_hidden_layer_32.get_params()\n"
   ]
  },
  {
   "cell_type": "code",
   "execution_count": null,
   "metadata": {},
   "outputs": [],
   "source": [
    "print(\"ONE HIDDEN LAYER 32\")\n",
    "plot_losses(training_losses_32, validation_losses_32)\n",
    "one_hidden_layer_stats = get_accuracy_stats(mlp_one_hidden_layer_32, best_no_val_params_32, best_val_params_32, X_test, y_test, X_train, y_train)\n",
    "\n"
   ]
  },
  {
   "cell_type": "code",
   "execution_count": null,
   "metadata": {},
   "outputs": [],
   "source": [
    "HIDDEN_UNITS = 64\n",
    "mlp_one_hidden_layer_64 = MLP(\n",
    "    LinearLayer(784, HIDDEN_UNITS),\n",
    "    ReLULayer(),\n",
    "    LinearLayer(HIDDEN_UNITS, 25),\n",
    "    SoftmaxOutputLayer()\n",
    ")\n",
    "optimizer = GradientDescentOptimizer(mlp_one_hidden_layer_64, 1e-1)\n",
    "gradient_steps = 200\n",
    "best_val_params_64, training_losses_64, validation_losses_64 = train(mlp_one_hidden_layer_64, optimizer, X_train, y_train, gradient_steps)\n",
    "best_no_val_params_64 = mlp_one_hidden_layer_64.get_params()"
   ]
  },
  {
   "cell_type": "code",
   "execution_count": null,
   "metadata": {},
   "outputs": [],
   "source": [
    "print(\"ONE HIDDEN LAYER 64\")\n",
    "plot_losses(training_losses_64, validation_losses_64)\n",
    "one_hidden_layer_stats = get_accuracy_stats(mlp_one_hidden_layer_64, best_no_val_params_64, best_val_params_64, X_test, y_test, X_train, y_train)\n"
   ]
  },
  {
   "cell_type": "code",
   "execution_count": null,
   "metadata": {},
   "outputs": [],
   "source": [
    "HIDDEN_UNITS = 128\n",
    "mlp_one_hidden_layer_128 = MLP(\n",
    "    LinearLayer(784, HIDDEN_UNITS),\n",
    "    ReLULayer(),\n",
    "    LinearLayer(HIDDEN_UNITS, 25),\n",
    "    SoftmaxOutputLayer()\n",
    ")\n",
    "# optimizer = GradientDescentOptimizer(mlp_one_hidden_layer_128, 1e-1)\n",
    "optimizer = GradientDescentOptimizerWithSchedule(mlp_one_hidden_layer_128, lr= 0.1, schedule_step=2000, decay_factor=0.9 )\n",
    "gradient_steps = 200\n",
    "best_val_params_128, training_losses_128, validation_losses_128 = train(mlp_one_hidden_layer_128, optimizer, X_train, y_train, gradient_steps)\n",
    "best_no_val_params_128 = mlp_one_hidden_layer_128.get_params()"
   ]
  },
  {
   "cell_type": "code",
   "execution_count": null,
   "metadata": {},
   "outputs": [],
   "source": [
    "#Trying to train another 200 epochs -> highlights the convergence problem we're seeing\n",
    "gradient_steps = 200\n",
    "best_val_params_128 = train(mlp_one_hidden_layer_128, optimizer, X_train, y_train, gradient_steps)\n",
    "best_no_val_params_128 = mlp_one_hidden_layer_128.get_params()"
   ]
  },
  {
   "cell_type": "code",
   "execution_count": null,
   "metadata": {},
   "outputs": [],
   "source": [
    "print(\"ONE HIDDEN LAYER 128\")\n",
    "plot_losses(training_losses_128, validation_losses_128)\n",
    "one_hidden_layer_stats = get_accuracy_stats(mlp_one_hidden_layer_128, best_no_val_params_128, best_val_params_128, X_test, y_test, X_train, y_train)\n"
   ]
  },
  {
   "cell_type": "code",
   "execution_count": 37,
   "metadata": {},
   "outputs": [
    {
     "name": "stderr",
     "output_type": "stream",
     "text": [
      "100%|██████████| 200/200 [54:45<00:00, 16.43s/it]\n"
     ]
    }
   ],
   "source": [
    "HIDDEN_UNITS = 256\n",
    "mlp_one_hidden_layer_256 = MLP(\n",
    "    LinearLayer(784, HIDDEN_UNITS),\n",
    "    ReLULayer(),\n",
    "    LinearLayer(HIDDEN_UNITS, 25),\n",
    "    SoftmaxOutputLayer()\n",
    ")\n",
    "optimizer = GradientDescentOptimizer(mlp_one_hidden_layer_256, 1e-1)\n",
    "gradient_steps = 200\n",
    "best_val_params_256, training_losses_256, validation_losses_256 = train(mlp_one_hidden_layer_256, optimizer, X_train, y_train, gradient_steps)\n",
    "best_no_val_params_256 = mlp_one_hidden_layer_256.get_params()"
   ]
  },
  {
   "cell_type": "code",
   "execution_count": 39,
   "metadata": {},
   "outputs": [
    {
     "name": "stdout",
     "output_type": "stream",
     "text": [
      "ONE HIDDEN LAYER 256\n"
     ]
    },
    {
     "data": {
      "image/png": "[encoded data removed]",
      "text/plain": [
       "<Figure size 640x480 with 1 Axes>"
      ]
     },
     "metadata": {},
     "output_type": "display_data"
    },
    {
     "name": "stdout",
     "output_type": "stream",
     "text": [
      "Train accuracy no validation = 97.28%\n",
      "Test accuracy no validation = 58.00%\n",
      "Train accuracy with validation = 99.24%\n",
      "Test accuracy with validation = 57.84%\n"
     ]
    }
   ],
   "source": [
    "print(\"ONE HIDDEN LAYER 256\")\n",
    "plot_losses(training_losses_256, validation_losses_256)\n",
    "one_hidden_layer_stats = get_accuracy_stats(mlp_one_hidden_layer_256, best_no_val_params_256, best_val_params_256, X_test, y_test, X_train, y_train)\n"
   ]
  },
  {
   "cell_type": "code",
   "execution_count": 41,
   "metadata": {},
   "outputs": [
    {
     "name": "stderr",
     "output_type": "stream",
     "text": [
      "100%|██████████| 200/200 [54:52<00:00, 16.46s/it]\n"
     ]
    }
   ],
   "source": [
    "### When its obvious that the loss is continuing to decrease, we can keep going like this:\n",
    "### mlp_one_hidden_layer_256 still has the params from the last 200 epochs of training\n",
    "\n",
    "#Training another 200 epochs\n",
    "best_val_params_256_ROUND2, training_losses_256_ROUND2, validation_losses_256_ROUND2 = train(mlp_one_hidden_layer_256, optimizer, X_train, y_train, gradient_steps)\n",
    "best_no_val_params_256_ROUND2 = mlp_one_hidden_layer_256.get_params()"
   ]
  },
  {
   "cell_type": "code",
   "execution_count": 49,
   "metadata": {},
   "outputs": [
    {
     "name": "stdout",
     "output_type": "stream",
     "text": [
      "ONE HIDDEN LAYER 256 ROUND 2\n"
     ]
    },
    {
     "data": {
      "image/png": "[encoded data removed]",
      "text/plain": [
       "<Figure size 640x480 with 1 Axes>"
      ]
     },
     "metadata": {},
     "output_type": "display_data"
    },
    {
     "name": "stdout",
     "output_type": "stream",
     "text": [
      "Train accuracy no validation = 99.24%\n",
      "Test accuracy no validation = 57.84%\n",
      "Train accuracy with validation = 99.24%\n",
      "Test accuracy with validation = 57.84%\n"
     ]
    }
   ],
   "source": [
    "training_losses_256_COMBINED = training_losses_256+training_losses_256_ROUND2\n",
    "validation_losses_256_COMBINED = validation_losses_256+validation_losses_256_ROUND2\n",
    "print(\"ONE HIDDEN LAYER 256 ROUND 2\")\n",
    "plot_losses(training_losses_256_COMBINED, validation_losses_256_COMBINED)\n",
    "one_hidden_layer_stats_ROUND2 = get_accuracy_stats(mlp_one_hidden_layer_256, best_no_val_params_256_ROUND2, best_val_params_256_ROUND2, X_test, y_test, X_train, y_train)\n"
   ]
  },
  {
   "cell_type": "markdown",
   "metadata": {},
   "source": [
    "\n",
    "\n",
    "\n",
    "\n",
    "\n",
    "\n",
    "\n",
    "\n",
    "\n",
    "\n",
    "\n",
    "\n",
    "\n",
    "\n",
    "\n",
    "\n",
    "\n",
    "\n",
    "\n",
    "."
   ]
  },
  {
   "cell_type": "markdown",
   "metadata": {},
   "source": [
    "<h3>Two Hidden Layers</h3>"
   ]
  },
  {
   "cell_type": "code",
   "execution_count": 14,
   "metadata": {},
   "outputs": [
    {
     "ename": "NameError",
     "evalue": "name 'optimizer' is not defined",
     "output_type": "error",
     "traceback": [
      "\u001b[1;31m---------------------------------------------------------------------------\u001b[0m",
      "\u001b[1;31mNameError\u001b[0m                                 Traceback (most recent call last)",
      "\u001b[1;32mc:\\Users\\zachg\\Downloads\\COMP551_Assignment3\\assignment3_group-1.ipynb Cell 31\u001b[0m line \u001b[0;36m1\n\u001b[0;32m     <a href='vscode-notebook-cell:/c%3A/Users/zachg/Downloads/COMP551_Assignment3/assignment3_group-1.ipynb#X42sZmlsZQ%3D%3D?line=11'>12</a>\u001b[0m GradientDescentOptimizer(mlp_two_32_32, \u001b[39m1e-2\u001b[39m)\n\u001b[0;32m     <a href='vscode-notebook-cell:/c%3A/Users/zachg/Downloads/COMP551_Assignment3/assignment3_group-1.ipynb#X42sZmlsZQ%3D%3D?line=12'>13</a>\u001b[0m gradient_steps \u001b[39m=\u001b[39m \u001b[39m200\u001b[39m\n\u001b[1;32m---> <a href='vscode-notebook-cell:/c%3A/Users/zachg/Downloads/COMP551_Assignment3/assignment3_group-1.ipynb#X42sZmlsZQ%3D%3D?line=13'>14</a>\u001b[0m best_val_params_32_32, training_losses_32_32, validation_losses_32_32 \u001b[39m=\u001b[39m train(mlp_two_32_32, optimizer, X_train, y_train, gradient_steps)\n\u001b[0;32m     <a href='vscode-notebook-cell:/c%3A/Users/zachg/Downloads/COMP551_Assignment3/assignment3_group-1.ipynb#X42sZmlsZQ%3D%3D?line=14'>15</a>\u001b[0m best_no_val_params_32_32 \u001b[39m=\u001b[39m mlp_two_32_32\u001b[39m.\u001b[39mget_params()\n",
      "\u001b[1;31mNameError\u001b[0m: name 'optimizer' is not defined"
     ]
    }
   ],
   "source": [
    "HIDDEN_UNITS_1 = 32\n",
    "HIDDEN_UNITS_2 = 32\n",
    "mlp_two_32_32 = MLP(\n",
    "    LinearLayer(784, HIDDEN_UNITS_1),\n",
    "    ReLULayer(),\n",
    "    LinearLayer(HIDDEN_UNITS_1, HIDDEN_UNITS_2),\n",
    "    ReLULayer(),\n",
    "    LinearLayer(HIDDEN_UNITS_2, 25),\n",
    "    SoftmaxOutputLayer()\n",
    ")\n",
    "\n",
    "optimizer = GradientDescentOptimizer(mlp_two_32_32, 1e-2)\n",
    "gradient_steps = 200\n",
    "best_val_params_32_32, training_losses_32_32, validation_losses_32_32 = train(mlp_two_32_32, optimizer, X_train, y_train, gradient_steps)\n",
    "best_no_val_params_32_32 = mlp_two_32_32.get_params()"
   ]
  },
  {
   "cell_type": "code",
   "execution_count": 33,
   "metadata": {},
   "outputs": [
    {
     "name": "stdout",
     "output_type": "stream",
     "text": [
      "ONE HIDDEN LAYER 32 32\n"
     ]
    },
    {
     "data": {
      "image/png": "[encoded data removed]",
      "text/plain": [
       "<Figure size 640x480 with 1 Axes>"
      ]
     },
     "metadata": {},
     "output_type": "display_data"
    },
    {
     "name": "stdout",
     "output_type": "stream",
     "text": [
      "Train accuracy no validation = 4.40%\n",
      "Test accuracy no validation = 3.19%\n",
      "Train accuracy with validation = 4.40%\n",
      "Test accuracy with validation = 3.19%\n"
     ]
    }
   ],
   "source": [
    "print(\"ONE HIDDEN LAYER 32 32\")\n",
    "#Looks bad because not enough parameters probably\n",
    "plot_losses(training_losses_32_32, validation_losses_32_32)\n",
    "two_32_32_stats = get_accuracy_stats(mlp_two_32_32, best_no_val_params_32_32, best_no_val_params_32_32, X_test, y_test, X_train, y_train)"
   ]
  },
  {
   "cell_type": "code",
   "execution_count": null,
   "metadata": {},
   "outputs": [],
   "source": [
    "#TODO Continue the testing...."
   ]
  },
  {
   "cell_type": "markdown",
   "metadata": {},
   "source": [
    "\"\n",
    "\n",
    "\n",
    "\n",
    "\n",
    "\n",
    "\n",
    "\n",
    "\n",
    "\n",
    "\n",
    "\n",
    "\n",
    "\n",
    "\""
   ]
  },
  {
   "cell_type": "markdown",
   "metadata": {},
   "source": [
    "<h1> Task 3.2 - Sigmoid and Leaky ReLU</h1>"
   ]
  },
  {
   "cell_type": "code",
   "execution_count": null,
   "metadata": {},
   "outputs": [],
   "source": [
    "class LeakyReLULayer(NeuralNetLayer):\n",
    "    def __init__(self, negative_slope=0.1): #Same terminology as the pytorch documentation: https://pytorch.org/docs/stable/generated/torch.nn.LeakyReLU.html\n",
    "        super().__init__()\n",
    "        self.negative_slope = negative_slope\n",
    "    \n",
    "    def forward(self, x):\n",
    "        self.gradient = np.where(x>0, 1.0, self.negative_slope)\n",
    "        return np.where(x>0.0, x, self.negative_slope*x)\n",
    "    \n",
    "    def backward(self, gradient):\n",
    "        assert self.gradient is not None, \"Must call forward before backward\"\n",
    "        return gradient * self.gradient\n",
    "\n",
    "class SigmoidLayer(NeuralNetLayer):\n",
    "    def __init__(self):\n",
    "        super().__init__()\n",
    "        self.output = None\n",
    "\n",
    "    def forward(self, x):\n",
    "        self.output = 1/(1+np.exp(-x))\n",
    "        #Gradient can conveniently be expressed as sigmoid(x)*(1-sigmoid(x)), ie. self.output*(1-self.output)\n",
    "        self.gradient = self.output*(1-self.output)\n",
    "        return self.output\n",
    "    \n",
    "    def backward(self, gradient):\n",
    "        assert self.output is not None, \"Must call forward before backward\"\n",
    "        return gradient * self.gradient"
   ]
  },
  {
   "cell_type": "markdown",
   "metadata": {},
   "source": [
    "<h3> Leaky ReLU </h3>"
   ]
  },
  {
   "cell_type": "code",
   "execution_count": null,
   "metadata": {},
   "outputs": [],
   "source": [
    "#Example model, choose params based on testing\n",
    "HIDDEN_UNITS_1 = None\n",
    "HIDDEN_UNITS_2 = None\n",
    "mlp_leaky = MLP(\n",
    "     LinearLayer(784, HIDDEN_UNITS_1),\n",
    "    LeakyReLULayer(),\n",
    "    LinearLayer(HIDDEN_UNITS_1, HIDDEN_UNITS_2),\n",
    "    LeakyReLULayer(),\n",
    "    LinearLayer(HIDDEN_UNITS_2, 25),\n",
    "    SoftmaxOutputLayer()\n",
    ")\n",
    "GradientDescentOptimizer(mlp_leaky, 1e-1)\n",
    "gradient_steps = 200\n",
    "best_val_params_leaky, training_losses_leaky, validation_losses_leaky = train(mlp_leaky, optimizer, X_train, y_train, gradient_steps)\n",
    "best_no_val_params_leaky = mlp_leaky.get_params()"
   ]
  },
  {
   "cell_type": "code",
   "execution_count": null,
   "metadata": {},
   "outputs": [],
   "source": [
    "print(\"LEAKY RELU\")\n",
    "plot_losses(training_losses_leaky, validation_losses_leaky)\n",
    "leaky_stats = get_accuracy_stats(mlp_leaky, best_no_val_params_leaky, best_val_params_leaky, X_test, y_test, X_train, y_train)"
   ]
  },
  {
   "cell_type": "markdown",
   "metadata": {},
   "source": [
    "<h3> Sigmoid Activation </h3>"
   ]
  },
  {
   "cell_type": "code",
   "execution_count": null,
   "metadata": {},
   "outputs": [],
   "source": [
    "#Example Model, choose params based on testing\n",
    "HIDDEN_UNITS_1 = None\n",
    "HIDDEN_UNITS_2 = None\n",
    "mlp_sigmoid = MLP(\n",
    "     LinearLayer(784, HIDDEN_UNITS_1),\n",
    "    SigmoidLayer(),\n",
    "    LinearLayer(HIDDEN_UNITS_1, HIDDEN_UNITS_2),\n",
    "    SigmoidLayer(),\n",
    "    LinearLayer(HIDDEN_UNITS_2, 25),\n",
    "    SoftmaxOutputLayer()\n",
    ")\n",
    "GradientDescentOptimizer(mlp_sigmoid, 1e-1)\n",
    "gradient_steps = 200\n",
    "best_val_params_sigmoid, training_losses_sigmoid, validation_losses_sigmoid = train(mlp_sigmoid, optimizer, X_train, y_train, gradient_steps)\n",
    "best_no_val_params_sigmoid = mlp_sigmoid.get_params()"
   ]
  },
  {
   "cell_type": "code",
   "execution_count": null,
   "metadata": {},
   "outputs": [],
   "source": [
    "print(\"SIGMOID ACTIVATION\")\n",
    "plot_losses(training_losses_sigmoid, validation_losses_sigmoid)\n",
    "sigmoid_stats = get_accuracy_stats(mlp_sigmoid, best_no_val_params_sigmoid, best_val_params_sigmoid, X_test, y_test, X_train, y_train)"
   ]
  },
  {
   "cell_type": "markdown",
   "metadata": {},
   "source": [
    "<h1> Task 3.3 </h1>\n",
    "<h3> TODO Implement the regularization. Shouldn't affect forward pass, but backwards pass changes bc the cost function changes\""
   ]
  },
  {
   "cell_type": "markdown",
   "metadata": {},
   "source": [
    "<h1>Task 3.4 </h1>"
   ]
  },
  {
   "cell_type": "markdown",
   "metadata": {},
   "source": [
    "Using existing libraries such as Keras/TensorFlow or PyTorch, create a Convolutional\n",
    "Neural Network (ConvNet) with 3 convolutional and 2 fully connected layers. You are free\n",
    "in your choice of the hyperparameters of the convolutional layers. Experiment again with\n",
    "using {32,64,128,256} hidden units in the fully connected layers and choose the best one.\n",
    "Also, set the activations in all of the layers to be ReLU. Train this ConvNet on the Sign\n",
    "Language MNIST dataset. Does using a ConvNet increase/decrease the accuracy compared to using MLPs? Provide comments on your results."
   ]
  },
  {
   "cell_type": "code",
   "execution_count": 63,
   "metadata": {},
   "outputs": [],
   "source": [
    "import torch.nn as nn\n",
    "import torch.nn.functional as F\n",
    "\n",
    "class ConvNet(nn.Module):\n",
    "    def __init__(self, number_of_hidden_units):\n",
    "        super(ConvNet, self).__init__()\n",
    "\n",
    "        #convolution -> input image is 28x28x1 (Width x Depth x Channels)\n",
    "        #output dimensions = (xh + 2ph - fh + 1) x (xw + 2pw - fw +1)\n",
    "        self.conv1 = nn.Conv2d(in_channels=1, out_channels=32, kernel_size=3, padding=1) #output -> (28 + 2*1 - 3 + 1) = 28x28x32\n",
    "        self.conv2 = nn.Conv2d(in_channels=32, out_channels=64, kernel_size=3, padding=1) #output -> 28x28x64\n",
    "        self.conv3 = nn.Conv2d(in_channels=64, out_channels=128, kernel_size=3, padding=1) #output -> 28x28x128\n",
    "\n",
    "        #At this point if we flatten the image to vector representation for the linear layer, our input dimension would be 28*28*128=100,352 which is insanely large\n",
    "        #We can apply max pooling, but we haven't really seen it in class I don't think unless I'm just behind on lectures\n",
    "        #Its really quite simple, and because of the autograd provided by pytorch we don't have to think too hard about the math\n",
    "\n",
    "        self.pool = nn.MaxPool2d(kernel_size=2, stride=2) #Applying this effectively halves both the width and the height -> a 2x2 square in the orginal image is pooled to only the maximum value so 2x2 becomes 1. Stride of two allows this to never overlap\n",
    "\n",
    "        #if we anticipate applying max pooling after conv1 then that yields 14x14x32\n",
    "        #if we apply it after conv2 then that yields 7x7x64\n",
    "        #So our input to the linear fully connected layers is 7x7x128 (after convolution 3) -> 128 separate 7x7 images (Feature maps)\n",
    "        self.fc1 = nn.Linear(128*7*7, number_of_hidden_units)\n",
    "        self.fc2 = nn.Linear(number_of_hidden_units, 25) #25 output units as previous (25 classes->really only 24 because there's a 0 examples of J and z is just chopped off the end)\n",
    "    \n",
    "    def forward(self, x, apply_softmax = False):\n",
    "        x = self.conv1(x)\n",
    "        x = F.relu(x)\n",
    "        x = self.pool(x)\n",
    "\n",
    "        x = self.conv2(x)\n",
    "        x = F.relu(x)\n",
    "        x= self.pool(x)\n",
    "\n",
    "        x = self.conv3(x)\n",
    "        x = F.relu(x)\n",
    "\n",
    "        #Now we need to flatten the image to a vector representation\n",
    "        x = x.view(-1, 7*7*128) #-1 allows pytorch to infer the size (batch dimension), 7x7x128 is as discussed above\n",
    "\n",
    "        x = self.fc1(x)\n",
    "        x = F.relu(x)\n",
    "        x = self.fc2(x)\n",
    "\n",
    "        if apply_softmax: #We only apply softmax if we need to, nn.CrossEntropyLoss does this internally for efficiency. So we will call forward(x, True) when we want probabilities instead of logits\n",
    "            x = F.softmax(x, dim=1)\n",
    "\n",
    "        return x"
   ]
  },
  {
   "cell_type": "code",
   "execution_count": 64,
   "metadata": {},
   "outputs": [],
   "source": [
    "from torch.utils.data import TensorDataset, DataLoader\n",
    "\n",
    "train_dataset = TensorDataset(X_train_tensor, y_train_tensor)\n",
    "test_dataset = TensorDataset(X_test_tensor, y_test_tensor)\n",
    "\n",
    "batch_size = 128\n",
    "\n",
    "train_loader = DataLoader(train_dataset, batch_size=batch_size, shuffle=True)\n",
    "test_loader = DataLoader(test_dataset, batch_size=batch_size, shuffle=False)"
   ]
  },
  {
   "cell_type": "code",
   "execution_count": 65,
   "metadata": {},
   "outputs": [
    {
     "name": "stdout",
     "output_type": "stream",
     "text": [
      "Epoch [1/300], Loss: 0.6845\n",
      "Epoch [2/300], Loss: 0.2798\n",
      "Epoch [3/300], Loss: 0.0363\n",
      "Epoch [4/300], Loss: 0.0187\n",
      "Epoch [5/300], Loss: 0.0029\n",
      "Epoch [6/300], Loss: 0.0023\n",
      "Epoch [7/300], Loss: 0.0031\n",
      "Epoch [8/300], Loss: 0.0014\n",
      "Epoch [9/300], Loss: 0.0006\n",
      "Epoch [10/300], Loss: 0.0010\n",
      "Epoch [11/300], Loss: 0.0003\n",
      "Epoch [12/300], Loss: 0.0004\n",
      "Epoch [13/300], Loss: 0.0005\n",
      "Epoch [14/300], Loss: 0.0002\n",
      "Epoch [15/300], Loss: 0.0001\n",
      "Epoch [16/300], Loss: 0.0001\n",
      "Epoch [17/300], Loss: 0.0001\n",
      "Epoch [18/300], Loss: 0.0001\n",
      "Epoch [19/300], Loss: 0.0001\n",
      "Epoch [20/300], Loss: 0.0001\n",
      "Epoch [21/300], Loss: 0.0001\n",
      "Epoch [22/300], Loss: 0.0001\n",
      "Epoch [23/300], Loss: 0.0000\n",
      "Epoch [24/300], Loss: 0.0000\n",
      "Epoch [25/300], Loss: 0.0000\n",
      "Epoch [26/300], Loss: 0.0000\n",
      "Epoch [27/300], Loss: 0.0000\n",
      "Epoch [28/300], Loss: 0.0000\n",
      "Epoch [29/300], Loss: 0.0000\n",
      "Epoch [30/300], Loss: 0.0000\n",
      "Epoch [31/300], Loss: 0.0000\n",
      "Epoch [32/300], Loss: 0.0000\n",
      "Epoch [33/300], Loss: 0.0000\n",
      "Epoch [34/300], Loss: 0.0000\n",
      "Epoch [35/300], Loss: 0.0000\n",
      "Epoch [36/300], Loss: 0.0000\n",
      "Epoch [37/300], Loss: 0.0000\n",
      "Epoch [38/300], Loss: 0.0000\n",
      "Epoch [39/300], Loss: 0.0000\n",
      "Epoch [40/300], Loss: 0.0000\n",
      "Epoch [41/300], Loss: 0.0000\n",
      "Epoch [42/300], Loss: 0.0000\n",
      "Epoch [43/300], Loss: 0.0000\n",
      "Epoch [44/300], Loss: 0.0000\n",
      "Epoch [45/300], Loss: 0.0000\n",
      "Epoch [46/300], Loss: 0.0000\n",
      "Epoch [47/300], Loss: 0.0000\n",
      "Epoch [48/300], Loss: 0.0000\n",
      "Epoch [49/300], Loss: 0.0000\n",
      "Epoch [50/300], Loss: 0.0000\n",
      "Epoch [51/300], Loss: 0.0000\n",
      "Epoch [52/300], Loss: 0.0000\n",
      "Epoch [53/300], Loss: 0.0000\n",
      "Epoch [54/300], Loss: 0.0000\n",
      "Epoch [55/300], Loss: 0.0000\n",
      "Epoch [56/300], Loss: 0.0000\n",
      "Epoch [57/300], Loss: 0.0000\n",
      "Epoch [58/300], Loss: 0.0000\n",
      "Epoch [59/300], Loss: 0.0000\n",
      "Epoch [60/300], Loss: 0.0000\n",
      "Epoch [61/300], Loss: 0.0000\n",
      "Epoch [62/300], Loss: 0.0000\n",
      "Epoch [63/300], Loss: 0.0000\n",
      "Epoch [64/300], Loss: 0.0524\n",
      "Epoch [65/300], Loss: 0.0029\n",
      "Epoch [66/300], Loss: 0.0016\n",
      "Epoch [67/300], Loss: 0.0008\n",
      "Epoch [68/300], Loss: 0.0013\n",
      "Epoch [69/300], Loss: 0.0007\n",
      "Epoch [70/300], Loss: 0.0005\n",
      "Epoch [71/300], Loss: 0.0003\n",
      "Epoch [72/300], Loss: 0.0002\n",
      "Epoch [73/300], Loss: 0.0002\n",
      "Epoch [74/300], Loss: 0.0003\n",
      "Epoch [75/300], Loss: 0.0001\n",
      "Epoch [76/300], Loss: 0.0002\n",
      "Epoch [77/300], Loss: 0.0002\n",
      "Epoch [78/300], Loss: 0.0001\n",
      "Epoch [79/300], Loss: 0.0002\n",
      "Epoch [80/300], Loss: 0.0001\n",
      "Epoch [81/300], Loss: 0.0002\n",
      "Epoch [82/300], Loss: 0.0000\n",
      "Epoch [83/300], Loss: 0.0000\n",
      "Epoch [84/300], Loss: 0.0000\n",
      "Epoch [85/300], Loss: 0.0000\n",
      "Epoch [86/300], Loss: 0.0000\n",
      "Epoch [87/300], Loss: 0.0000\n",
      "Epoch [88/300], Loss: 0.0000\n",
      "Epoch [89/300], Loss: 0.0000\n",
      "Epoch [90/300], Loss: 0.0000\n",
      "Epoch [91/300], Loss: 0.0000\n",
      "Epoch [92/300], Loss: 0.0000\n",
      "Epoch [93/300], Loss: 0.0000\n",
      "Epoch [94/300], Loss: 0.0000\n",
      "Epoch [95/300], Loss: 0.0000\n",
      "Epoch [96/300], Loss: 0.0000\n",
      "Epoch [97/300], Loss: 0.0000\n",
      "Epoch [98/300], Loss: 0.0000\n",
      "Epoch [99/300], Loss: 0.0000\n",
      "Epoch [100/300], Loss: 0.0000\n",
      "Epoch [101/300], Loss: 0.0000\n",
      "Epoch [102/300], Loss: 0.0000\n",
      "Epoch [103/300], Loss: 0.0000\n",
      "Epoch [104/300], Loss: 0.0000\n",
      "Epoch [105/300], Loss: 0.0000\n",
      "Epoch [106/300], Loss: 0.0000\n",
      "Epoch [107/300], Loss: 0.0000\n",
      "Epoch [108/300], Loss: 0.0000\n",
      "Epoch [109/300], Loss: 0.0000\n",
      "Epoch [110/300], Loss: 0.0000\n",
      "Epoch [111/300], Loss: 0.0000\n",
      "Epoch [112/300], Loss: 0.0000\n",
      "Epoch [113/300], Loss: 0.0000\n",
      "Epoch [114/300], Loss: 0.0000\n",
      "Epoch [115/300], Loss: 0.0000\n",
      "Epoch [116/300], Loss: 0.0000\n",
      "Epoch [117/300], Loss: 0.0000\n",
      "Epoch [118/300], Loss: 0.0000\n",
      "Epoch [119/300], Loss: 0.0000\n",
      "Epoch [120/300], Loss: 0.0000\n",
      "Epoch [121/300], Loss: 0.0000\n",
      "Epoch [122/300], Loss: 0.0000\n",
      "Epoch [123/300], Loss: 0.0000\n",
      "Epoch [124/300], Loss: 0.0000\n",
      "Epoch [125/300], Loss: 0.0000\n",
      "Epoch [126/300], Loss: 0.0000\n",
      "Epoch [127/300], Loss: 0.0000\n",
      "Epoch [128/300], Loss: 0.0000\n",
      "Epoch [129/300], Loss: 0.0000\n",
      "Epoch [130/300], Loss: 0.0000\n",
      "Epoch [131/300], Loss: 0.0000\n",
      "Epoch [132/300], Loss: 0.0000\n",
      "Epoch [133/300], Loss: 0.0000\n",
      "Epoch [134/300], Loss: 0.0000\n",
      "Epoch [135/300], Loss: 0.0000\n",
      "Epoch [136/300], Loss: 0.0000\n",
      "Epoch [137/300], Loss: 0.0000\n",
      "Epoch [138/300], Loss: 0.0000\n",
      "Epoch [139/300], Loss: 0.0000\n",
      "Epoch [140/300], Loss: 0.0000\n",
      "Epoch [141/300], Loss: 0.0000\n",
      "Epoch [142/300], Loss: 0.0000\n",
      "Epoch [143/300], Loss: 0.0000\n",
      "Epoch [144/300], Loss: 0.0000\n",
      "Epoch [145/300], Loss: 0.0000\n",
      "Epoch [146/300], Loss: 0.0000\n",
      "Epoch [147/300], Loss: 0.0000\n",
      "Epoch [148/300], Loss: 0.0000\n",
      "Epoch [149/300], Loss: 0.0000\n",
      "Epoch [150/300], Loss: 0.0000\n",
      "Epoch [151/300], Loss: 0.0000\n",
      "Epoch [152/300], Loss: 0.0000\n",
      "Epoch [153/300], Loss: 0.0000\n",
      "Epoch [154/300], Loss: 0.0000\n",
      "Epoch [155/300], Loss: 0.0000\n",
      "Epoch [156/300], Loss: 0.0000\n",
      "Epoch [157/300], Loss: 0.0000\n",
      "Epoch [158/300], Loss: 0.0000\n",
      "Epoch [159/300], Loss: 0.0000\n",
      "Epoch [160/300], Loss: 0.0000\n",
      "Epoch [161/300], Loss: 0.0000\n",
      "Epoch [162/300], Loss: 0.0000\n",
      "Epoch [163/300], Loss: 0.0000\n",
      "Epoch [164/300], Loss: 0.0000\n",
      "Epoch [165/300], Loss: 0.0000\n",
      "Epoch [166/300], Loss: 0.0060\n",
      "Epoch [167/300], Loss: 0.0001\n",
      "Epoch [168/300], Loss: 0.0001\n",
      "Epoch [169/300], Loss: 0.0000\n",
      "Epoch [170/300], Loss: 0.0000\n",
      "Epoch [171/300], Loss: 0.0000\n",
      "Epoch [172/300], Loss: 0.0000\n",
      "Epoch [173/300], Loss: 0.0000\n",
      "Epoch [174/300], Loss: 0.0000\n",
      "Epoch [175/300], Loss: 0.0000\n",
      "Epoch [176/300], Loss: 0.0000\n",
      "Epoch [177/300], Loss: 0.0000\n",
      "Epoch [178/300], Loss: 0.0000\n",
      "Epoch [179/300], Loss: 0.0000\n",
      "Epoch [180/300], Loss: 0.0000\n",
      "Epoch [181/300], Loss: 0.0000\n",
      "Epoch [182/300], Loss: 0.0000\n",
      "Epoch [183/300], Loss: 0.0000\n",
      "Epoch [184/300], Loss: 0.0000\n",
      "Epoch [185/300], Loss: 0.0000\n",
      "Epoch [186/300], Loss: 0.0000\n",
      "Epoch [187/300], Loss: 0.0000\n",
      "Epoch [188/300], Loss: 0.0000\n",
      "Epoch [189/300], Loss: 0.0000\n",
      "Epoch [190/300], Loss: 0.0000\n",
      "Epoch [191/300], Loss: 0.0000\n",
      "Epoch [192/300], Loss: 0.0000\n",
      "Epoch [193/300], Loss: 0.0000\n",
      "Epoch [194/300], Loss: 0.0000\n",
      "Epoch [195/300], Loss: 0.0000\n",
      "Epoch [196/300], Loss: 0.0000\n",
      "Epoch [197/300], Loss: 0.0000\n",
      "Epoch [198/300], Loss: 0.0000\n",
      "Epoch [199/300], Loss: 0.0000\n",
      "Epoch [200/300], Loss: 0.0000\n",
      "Epoch [201/300], Loss: 0.0000\n",
      "Epoch [202/300], Loss: 0.0000\n",
      "Epoch [203/300], Loss: 0.0000\n",
      "Epoch [204/300], Loss: 0.0000\n",
      "Epoch [205/300], Loss: 0.0000\n",
      "Epoch [206/300], Loss: 0.0000\n",
      "Epoch [207/300], Loss: 0.0000\n",
      "Epoch [208/300], Loss: 0.0000\n",
      "Epoch [209/300], Loss: 0.0000\n",
      "Epoch [210/300], Loss: 0.0000\n",
      "Epoch [211/300], Loss: 0.0000\n",
      "Epoch [212/300], Loss: 0.0000\n",
      "Epoch [213/300], Loss: 0.0000\n",
      "Epoch [214/300], Loss: 0.0000\n",
      "Epoch [215/300], Loss: 0.0000\n",
      "Epoch [216/300], Loss: 0.0000\n",
      "Epoch [217/300], Loss: 0.0000\n",
      "Epoch [218/300], Loss: 0.0000\n",
      "Epoch [219/300], Loss: 0.0000\n",
      "Epoch [220/300], Loss: 0.0000\n",
      "Epoch [221/300], Loss: 0.0000\n",
      "Epoch [222/300], Loss: 0.0000\n",
      "Epoch [223/300], Loss: 0.0000\n",
      "Epoch [224/300], Loss: 0.0000\n",
      "Epoch [225/300], Loss: 0.0000\n",
      "Epoch [226/300], Loss: 0.0000\n",
      "Epoch [227/300], Loss: 0.0000\n",
      "Epoch [228/300], Loss: 0.0000\n",
      "Epoch [229/300], Loss: 0.0000\n",
      "Epoch [230/300], Loss: 0.0000\n",
      "Epoch [231/300], Loss: 0.0000\n",
      "Epoch [232/300], Loss: 0.0000\n",
      "Epoch [233/300], Loss: 0.0000\n",
      "Epoch [234/300], Loss: 0.0000\n",
      "Epoch [235/300], Loss: 0.0000\n",
      "Epoch [236/300], Loss: 0.0000\n",
      "Epoch [237/300], Loss: 0.0000\n",
      "Epoch [238/300], Loss: 0.0000\n",
      "Epoch [239/300], Loss: 0.0000\n",
      "Epoch [240/300], Loss: 0.0000\n",
      "Epoch [241/300], Loss: 0.0000\n",
      "Epoch [242/300], Loss: 0.0000\n",
      "Epoch [243/300], Loss: 0.0000\n",
      "Epoch [244/300], Loss: 0.0000\n",
      "Epoch [245/300], Loss: 0.0000\n",
      "Epoch [246/300], Loss: 0.0000\n",
      "Epoch [247/300], Loss: 0.0000\n",
      "Epoch [248/300], Loss: 0.0000\n",
      "Epoch [249/300], Loss: 0.0000\n",
      "Epoch [250/300], Loss: 0.0000\n",
      "Epoch [251/300], Loss: 0.0000\n",
      "Epoch [252/300], Loss: 0.0000\n",
      "Epoch [253/300], Loss: 0.0000\n",
      "Epoch [254/300], Loss: 0.0000\n",
      "Epoch [255/300], Loss: 0.0000\n",
      "Epoch [256/300], Loss: 0.0000\n",
      "Epoch [257/300], Loss: 0.0000\n",
      "Epoch [258/300], Loss: 0.0000\n",
      "Epoch [259/300], Loss: 0.0000\n",
      "Epoch [260/300], Loss: 0.0000\n",
      "Epoch [261/300], Loss: 0.0000\n",
      "Epoch [262/300], Loss: 0.0000\n",
      "Epoch [263/300], Loss: 0.0000\n",
      "Epoch [264/300], Loss: 0.0000\n",
      "Epoch [265/300], Loss: 0.0000\n",
      "Epoch [266/300], Loss: 0.0000\n",
      "Epoch [267/300], Loss: 0.0000\n",
      "Epoch [268/300], Loss: 0.0000\n",
      "Epoch [269/300], Loss: 0.0000\n",
      "Epoch [270/300], Loss: 0.0001\n",
      "Epoch [271/300], Loss: 0.0001\n",
      "Epoch [272/300], Loss: 0.0000\n",
      "Epoch [273/300], Loss: 0.0000\n",
      "Epoch [274/300], Loss: 0.0000\n",
      "Epoch [275/300], Loss: 0.0000\n",
      "Epoch [276/300], Loss: 0.0000\n",
      "Epoch [277/300], Loss: 0.0000\n",
      "Epoch [278/300], Loss: 0.0000\n",
      "Epoch [279/300], Loss: 0.0000\n",
      "Epoch [280/300], Loss: 0.0000\n",
      "Epoch [281/300], Loss: 0.0000\n",
      "Epoch [282/300], Loss: 0.0000\n",
      "Epoch [283/300], Loss: 0.0000\n",
      "Epoch [284/300], Loss: 0.0000\n",
      "Epoch [285/300], Loss: 0.0000\n",
      "Epoch [286/300], Loss: 0.0000\n",
      "Epoch [287/300], Loss: 0.0000\n",
      "Epoch [288/300], Loss: 0.0000\n",
      "Epoch [289/300], Loss: 0.0000\n",
      "Epoch [290/300], Loss: 0.0000\n",
      "Epoch [291/300], Loss: 0.0000\n",
      "Epoch [292/300], Loss: 0.0000\n",
      "Epoch [293/300], Loss: 0.0000\n",
      "Epoch [294/300], Loss: 0.0000\n",
      "Epoch [295/300], Loss: 0.0000\n",
      "Epoch [296/300], Loss: 0.0000\n",
      "Epoch [297/300], Loss: 0.0000\n",
      "Epoch [298/300], Loss: 0.0000\n",
      "Epoch [299/300], Loss: 0.0000\n",
      "Epoch [300/300], Loss: 0.0000\n"
     ]
    }
   ],
   "source": [
    "import torch.optim as optim\n",
    "\n",
    "number_of_hidden_units = 32 #To change\n",
    "conv_net = ConvNet(number_of_hidden_units=number_of_hidden_units).float()\n",
    "\n",
    "device = torch.device(\"cuda:0\" if torch.cuda.is_available() else \"cpu\")\n",
    "conv_net.to(device)\n",
    "\n",
    "loss_function = nn.CrossEntropyLoss()\n",
    "optimizer = optim.Adam(conv_net.parameters(), lr = 0.001)\n",
    "\n",
    "num_epochs = 300\n",
    "for epoch in range(num_epochs):\n",
    "    for images, labels in train_loader:\n",
    "\n",
    "        images, labels = images.to(device), labels.to(device)\n",
    "\n",
    "        optimizer.zero_grad()\n",
    "        \n",
    "        outputs = conv_net(images)\n",
    "        loss = loss_function(outputs, labels)\n",
    "\n",
    "        loss.backward()\n",
    "        optimizer.step()\n",
    "    \n",
    "    print(f'Epoch [{epoch+1}/{num_epochs}], Loss: {loss.item():.4f}')\n",
    "\n",
    "\n",
    "\n"
   ]
  }
 ],
 "metadata": {
  "kernelspec": {
   "display_name": "GrITPythonEnv",
   "language": "python",
   "name": "python3"
  },
  "language_info": {
   "codemirror_mode": {
    "name": "ipython",
    "version": 3
   },
   "file_extension": ".py",
   "mimetype": "text/x-python",
   "name": "python",
   "nbconvert_exporter": "python",
   "pygments_lexer": "ipython3",
   "version": "3.11.4"
  }
 },
 "nbformat": 4,
 "nbformat_minor": 2
}
